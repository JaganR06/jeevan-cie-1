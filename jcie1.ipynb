{
 "cells": [
  {
   "cell_type": "code",
   "execution_count": 13,
   "id": "1a7f4706-a08e-446d-9af0-901f2db65b83",
   "metadata": {},
   "outputs": [
    {
     "name": "stdout",
     "output_type": "stream",
     "text": [
      "[[1 2 3]\n",
      " [4 5 6]]\n",
      "[[ 7  8  9]\n",
      " [10 11 12]]\n",
      "\n",
      "concateinating two arr:\n",
      " [[ 1  2  3  7  8  9]\n",
      " [ 4  5  6 10 11 12]]\n",
      "\n",
      "reves of a:\n",
      " [[6 5 4]\n",
      " [3 2 1]]\n"
     ]
    }
   ],
   "source": [
    "import numpy as np\n",
    "a=np.array([[1,2,3],[4,5,6]])\n",
    "a1=np.array([[7,8,9],[10,11,12]])\n",
    "print(a)\n",
    "print(a1)\n",
    "\n",
    "#concatinating two arrays\n",
    "a_new=np.concatenate((a,a1),axis=1)\n",
    "print(\"\\nconcateinating two arr:\\n\",a_new)\n",
    "\n",
    "#revers of an array\n",
    "res=np.flip(a)\n",
    "print(\"\\nreves of a:\\n\",res)\n"
   ]
  },
  {
   "cell_type": "code",
   "execution_count": null,
   "id": "788243a8-ef56-4764-ae2a-acca0ca8c7ea",
   "metadata": {},
   "outputs": [],
   "source": []
  }
 ],
 "metadata": {
  "kernelspec": {
   "display_name": "Python 3 (ipykernel)",
   "language": "python",
   "name": "python3"
  },
  "language_info": {
   "codemirror_mode": {
    "name": "ipython",
    "version": 3
   },
   "file_extension": ".py",
   "mimetype": "text/x-python",
   "name": "python",
   "nbconvert_exporter": "python",
   "pygments_lexer": "ipython3",
   "version": "3.12.4"
  }
 },
 "nbformat": 4,
 "nbformat_minor": 5
}
